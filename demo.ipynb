{
 "cells": [
  {
   "cell_type": "code",
   "execution_count": 8,
   "metadata": {},
   "outputs": [],
   "source": [
    "import altair as alt\n",
    "import pandas as pd\n",
    "import numpy as np"
   ]
  },
  {
   "cell_type": "code",
   "execution_count": 3,
   "metadata": {},
   "outputs": [],
   "source": [
    "x = np.random.normal(size=50)\n",
    "y = np.random.normal(scale=5, size=50)"
   ]
  },
  {
   "cell_type": "code",
   "execution_count": 6,
   "metadata": {},
   "outputs": [
    {
     "data": {
      "text/html": [
       "<div>\n",
       "<style scoped>\n",
       "    .dataframe tbody tr th:only-of-type {\n",
       "        vertical-align: middle;\n",
       "    }\n",
       "\n",
       "    .dataframe tbody tr th {\n",
       "        vertical-align: top;\n",
       "    }\n",
       "\n",
       "    .dataframe thead th {\n",
       "        text-align: right;\n",
       "    }\n",
       "</style>\n",
       "<table border=\"1\" class=\"dataframe\">\n",
       "  <thead>\n",
       "    <tr style=\"text-align: right;\">\n",
       "      <th></th>\n",
       "      <th>x</th>\n",
       "      <th>y</th>\n",
       "    </tr>\n",
       "  </thead>\n",
       "  <tbody>\n",
       "    <tr>\n",
       "      <th>0</th>\n",
       "      <td>1.709038</td>\n",
       "      <td>1.569829</td>\n",
       "    </tr>\n",
       "    <tr>\n",
       "      <th>1</th>\n",
       "      <td>-0.747001</td>\n",
       "      <td>4.010342</td>\n",
       "    </tr>\n",
       "    <tr>\n",
       "      <th>2</th>\n",
       "      <td>1.436283</td>\n",
       "      <td>7.495044</td>\n",
       "    </tr>\n",
       "    <tr>\n",
       "      <th>3</th>\n",
       "      <td>-2.012247</td>\n",
       "      <td>-9.126175</td>\n",
       "    </tr>\n",
       "    <tr>\n",
       "      <th>4</th>\n",
       "      <td>-1.474596</td>\n",
       "      <td>8.862660</td>\n",
       "    </tr>\n",
       "  </tbody>\n",
       "</table>\n",
       "</div>"
      ],
      "text/plain": [
       "          x         y\n",
       "0  1.709038  1.569829\n",
       "1 -0.747001  4.010342\n",
       "2  1.436283  7.495044\n",
       "3 -2.012247 -9.126175\n",
       "4 -1.474596  8.862660"
      ]
     },
     "execution_count": 6,
     "metadata": {},
     "output_type": "execute_result"
    }
   ],
   "source": [
    "df = pd.DataFrame({'x':x, 'y':y})\n",
    "df.head()"
   ]
  },
  {
   "cell_type": "code",
   "execution_count": 11,
   "metadata": {},
   "outputs": [
    {
     "data": {
      "text/html": [
       "\n",
       "<div id=\"altair-viz-ae5cfbf006504838b93b0f192095ac82\"></div>\n",
       "<script type=\"text/javascript\">\n",
       "  (function(spec, embedOpt){\n",
       "    let outputDiv = document.currentScript.previousElementSibling;\n",
       "    if (outputDiv.id !== \"altair-viz-ae5cfbf006504838b93b0f192095ac82\") {\n",
       "      outputDiv = document.getElementById(\"altair-viz-ae5cfbf006504838b93b0f192095ac82\");\n",
       "    }\n",
       "    const paths = {\n",
       "      \"vega\": \"https://cdn.jsdelivr.net/npm//vega@5?noext\",\n",
       "      \"vega-lib\": \"https://cdn.jsdelivr.net/npm//vega-lib?noext\",\n",
       "      \"vega-lite\": \"https://cdn.jsdelivr.net/npm//vega-lite@4.8.1?noext\",\n",
       "      \"vega-embed\": \"https://cdn.jsdelivr.net/npm//vega-embed@6?noext\",\n",
       "    };\n",
       "\n",
       "    function loadScript(lib) {\n",
       "      return new Promise(function(resolve, reject) {\n",
       "        var s = document.createElement('script');\n",
       "        s.src = paths[lib];\n",
       "        s.async = true;\n",
       "        s.onload = () => resolve(paths[lib]);\n",
       "        s.onerror = () => reject(`Error loading script: ${paths[lib]}`);\n",
       "        document.getElementsByTagName(\"head\")[0].appendChild(s);\n",
       "      });\n",
       "    }\n",
       "\n",
       "    function showError(err) {\n",
       "      outputDiv.innerHTML = `<div class=\"error\" style=\"color:red;\">${err}</div>`;\n",
       "      throw err;\n",
       "    }\n",
       "\n",
       "    function displayChart(vegaEmbed) {\n",
       "      vegaEmbed(outputDiv, spec, embedOpt)\n",
       "        .catch(err => showError(`Javascript Error: ${err.message}<br>This usually means there's a typo in your chart specification. See the javascript console for the full traceback.`));\n",
       "    }\n",
       "\n",
       "    if(typeof define === \"function\" && define.amd) {\n",
       "      requirejs.config({paths});\n",
       "      require([\"vega-embed\"], displayChart, err => showError(`Error loading script: ${err.message}`));\n",
       "    } else if (typeof vegaEmbed === \"function\") {\n",
       "      displayChart(vegaEmbed);\n",
       "    } else {\n",
       "      loadScript(\"vega\")\n",
       "        .then(() => loadScript(\"vega-lite\"))\n",
       "        .then(() => loadScript(\"vega-embed\"))\n",
       "        .catch(showError)\n",
       "        .then(() => displayChart(vegaEmbed));\n",
       "    }\n",
       "  })({\"config\": {\"view\": {\"continuousWidth\": 400, \"continuousHeight\": 300}}, \"data\": {\"name\": \"data-c265778c8d5322170465e2869aeac9dd\"}, \"mark\": {\"type\": \"point\", \"filled\": true, \"size\": 100}, \"encoding\": {\"tooltip\": [{\"type\": \"quantitative\", \"field\": \"x\"}, {\"type\": \"quantitative\", \"field\": \"y\"}], \"x\": {\"type\": \"quantitative\", \"field\": \"x\"}, \"y\": {\"type\": \"quantitative\", \"field\": \"y\"}}, \"selection\": {\"selector002\": {\"type\": \"interval\", \"bind\": \"scales\", \"encodings\": [\"x\", \"y\"]}}, \"$schema\": \"https://vega.github.io/schema/vega-lite/v4.8.1.json\", \"datasets\": {\"data-c265778c8d5322170465e2869aeac9dd\": [{\"x\": 1.7090378178082255, \"y\": 1.5698293744984486}, {\"x\": -0.7470011161243273, \"y\": 4.010342374562164}, {\"x\": 1.4362831706351462, \"y\": 7.495043866831058}, {\"x\": -2.0122465146458657, \"y\": -9.126174931533681}, {\"x\": -1.4745957071402471, \"y\": 8.862660351630002}, {\"x\": 0.6796689469800613, \"y\": -4.926020390231472}, {\"x\": -1.3900007190835868, \"y\": -2.1463873160850326}, {\"x\": 1.6121301867037923, \"y\": -4.767748769454348}, {\"x\": 0.1206129696120964, \"y\": -5.929769986083295}, {\"x\": 0.03797205022659413, \"y\": 2.580424274674326}, {\"x\": 1.44588771477365, \"y\": -6.455639911664813}, {\"x\": 1.3522480039604348, \"y\": -1.1471030411331282}, {\"x\": -0.21935857278061305, \"y\": -0.6479192326978822}, {\"x\": 0.8582259554905604, \"y\": -0.37529512313065494}, {\"x\": -1.1849576436306644, \"y\": -0.36765682476439365}, {\"x\": 1.7062922448221935, \"y\": -2.0990745593079168}, {\"x\": 0.7004859771882653, \"y\": -3.0381591008167934}, {\"x\": 0.547796872158797, \"y\": -3.0068523226083195}, {\"x\": -1.6216585837131698, \"y\": 3.989824469316499}, {\"x\": 0.2078384970112356, \"y\": 3.2107476500758954}, {\"x\": 0.723385567798314, \"y\": 1.8057856036517592}, {\"x\": 0.04719417716806845, \"y\": 6.2741166388570315}, {\"x\": 1.7896480745901584, \"y\": 13.396025429964741}, {\"x\": -0.013118159401642807, \"y\": -0.7587838608368945}, {\"x\": -0.04621479837806757, \"y\": -1.7751378200918615}, {\"x\": 0.21351032184630803, \"y\": -0.2868202140331945}, {\"x\": 0.5727239266179118, \"y\": 5.342513741738339}, {\"x\": 0.19200639303479514, \"y\": -5.214705866465888}, {\"x\": 1.2936416039470897, \"y\": 1.585075019323453}, {\"x\": 1.1217689819955388, \"y\": 7.808184230478412}, {\"x\": 0.0986319623566788, \"y\": -4.917799351006516}, {\"x\": 0.43196506180504224, \"y\": 7.611918255033858}, {\"x\": -0.14552800553155165, \"y\": -0.4363062118277411}, {\"x\": -0.04991902991802632, \"y\": 2.6051617783634624}, {\"x\": -0.4650264717542705, \"y\": 0.560396327663901}, {\"x\": 0.008159515488783776, \"y\": 4.527543690473038}, {\"x\": 0.049936442734863605, \"y\": -8.635326479621035}, {\"x\": 1.2298479910663518, \"y\": -1.7821362257808373}, {\"x\": 1.757946985973616, \"y\": -1.439841574204581}, {\"x\": 0.5496773640330984, \"y\": -1.5050228969732762}, {\"x\": 0.8797996425898017, \"y\": 3.9079194405518374}, {\"x\": 1.8602504165044909, \"y\": 1.8649802368769737}, {\"x\": -0.6045087697424756, \"y\": 5.1289180841278394}, {\"x\": 0.12691854844713008, \"y\": -5.766619021896055}, {\"x\": 1.3993499778745289, \"y\": -2.3481078130609654}, {\"x\": 1.644738232209564, \"y\": 4.7264633197805725}, {\"x\": 0.3498313463305253, \"y\": 3.307781342787578}, {\"x\": -0.5501727906655219, \"y\": 2.3022129609923945}, {\"x\": 0.9468369166306809, \"y\": -2.3503937235673704}, {\"x\": 0.5408482218358047, \"y\": 0.4791150534948425}]}}, {\"mode\": \"vega-lite\"});\n",
       "</script>"
      ],
      "text/plain": [
       "alt.Chart(...)"
      ]
     },
     "execution_count": 11,
     "metadata": {},
     "output_type": "execute_result"
    }
   ],
   "source": [
    "chart = alt.Chart(df).mark_point(size=100, filled=True).encode(x='x', y='y', tooltip=['x', 'y']).interactive()\n",
    "chart"
   ]
  },
  {
   "cell_type": "code",
   "execution_count": null,
   "metadata": {},
   "outputs": [],
   "source": []
  }
 ],
 "metadata": {
  "kernelspec": {
   "display_name": "Python 3",
   "language": "python",
   "name": "python3"
  },
  "language_info": {
   "codemirror_mode": {
    "name": "ipython",
    "version": 3
   },
   "file_extension": ".py",
   "mimetype": "text/x-python",
   "name": "python",
   "nbconvert_exporter": "python",
   "pygments_lexer": "ipython3",
   "version": "3.8.2"
  }
 },
 "nbformat": 4,
 "nbformat_minor": 4
}
